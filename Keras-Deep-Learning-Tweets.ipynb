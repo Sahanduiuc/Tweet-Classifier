{
 "cells": [
  {
   "cell_type": "markdown",
   "metadata": {},
   "source": [
    "# Deep Learning Tweets"
   ]
  },
  {
   "cell_type": "markdown",
   "metadata": {},
   "source": [
    "### Importing Libraries"
   ]
  },
  {
   "cell_type": "code",
   "execution_count": 55,
   "metadata": {},
   "outputs": [],
   "source": [
    "import _pickle as pickle\n",
    "from sklearn.model_selection import train_test_split\n",
    "from sklearn.metrics import accuracy_score\n",
    "import pandas as pd\n",
    "import numpy as np\n",
    "import matplotlib.pyplot as plt\n",
    "plt.style.use('ggplot')\n",
    "from keras.preprocessing.sequence import pad_sequences\n",
    "from keras.layers import Input, Dense, LSTM, Embedding\n",
    "from keras.layers import Dropout, Activation, Bidirectional, GlobalMaxPool1D\n",
    "from keras.models import Model, Sequential\n",
    "from keras import initializers, regularizers, constraints, optimizers, layers\n",
    "from keras.preprocessing import text, sequence\n",
    "from sklearn import preprocessing\n",
    "from keras.utils.np_utils import to_categorical"
   ]
  },
  {
   "cell_type": "markdown",
   "metadata": {},
   "source": [
    "### Loading the data"
   ]
  },
  {
   "cell_type": "code",
   "execution_count": 5,
   "metadata": {},
   "outputs": [],
   "source": [
    "# Loading in the DF\n",
    "with open(\"main_df.pkl\",'rb') as fp:\n",
    "    main_df = pickle.load(fp)\n",
    "\n",
    "# Loading in the cleaned tweet data\n",
    "with open(\"clean_tweets.pkl\",'rb') as fp:\n",
    "    data = pickle.load(fp)"
   ]
  },
  {
   "cell_type": "markdown",
   "metadata": {},
   "source": [
    "### Train, test, split"
   ]
  },
  {
   "cell_type": "code",
   "execution_count": 7,
   "metadata": {},
   "outputs": [],
   "source": [
    "X, y = data, main_df.City\n",
    "\n",
    "X_train, X_test, y_train, y_test = train_test_split(X, y, test_size=0.2)"
   ]
  },
  {
   "cell_type": "code",
   "execution_count": 10,
   "metadata": {},
   "outputs": [],
   "source": [
    "# Categorizing the classes\n",
    "y = pd.get_dummies(y).values"
   ]
  },
  {
   "cell_type": "code",
   "execution_count": 11,
   "metadata": {},
   "outputs": [],
   "source": [
    "# Tokenizing the words and keeping the 1000 most common\n",
    "tokenizer = text.Tokenizer(num_words=1000)\n",
    "tokenizer.fit_on_texts(X)\n",
    "list_tokenized_tweets = tokenizer.texts_to_sequences(X)\n",
    "X_t = sequence.pad_sequences(list_tokenized_tweets, maxlen=100)"
   ]
  },
  {
   "cell_type": "markdown",
   "metadata": {},
   "source": [
    "### Creating the neural network"
   ]
  },
  {
   "cell_type": "code",
   "execution_count": 12,
   "metadata": {},
   "outputs": [],
   "source": [
    "embedding_size = 500\n",
    "input_ = Input(shape=(100,))\n",
    "x = Embedding(1000, embedding_size)(input_)\n",
    "x = LSTM(50, return_sequences=True)(x)\n",
    "x = GlobalMaxPool1D()(x)\n",
    "x = Dropout(0.5)(x)\n",
    "x = Dense(50, activation='relu')(x)\n",
    "x = Dropout(0.5)(x)\n",
    "# There are 2 different possible classes, so we use 2 neurons in our output layer\n",
    "x = Dense(2, activation='softmax')(x)\n",
    "\n",
    "model = Model(inputs=input_, outputs=x)"
   ]
  },
  {
   "cell_type": "markdown",
   "metadata": {},
   "source": [
    "### Specifications for the model"
   ]
  },
  {
   "cell_type": "code",
   "execution_count": 13,
   "metadata": {},
   "outputs": [],
   "source": [
    "model.compile(loss='binary_crossentropy', optimizer='adam', metrics=['accuracy'])"
   ]
  },
  {
   "cell_type": "code",
   "execution_count": 14,
   "metadata": {},
   "outputs": [
    {
     "name": "stdout",
     "output_type": "stream",
     "text": [
      "Model: \"model_1\"\n",
      "_________________________________________________________________\n",
      "Layer (type)                 Output Shape              Param #   \n",
      "=================================================================\n",
      "input_1 (InputLayer)         (None, 100)               0         \n",
      "_________________________________________________________________\n",
      "embedding_1 (Embedding)      (None, 100, 500)          500000    \n",
      "_________________________________________________________________\n",
      "lstm_1 (LSTM)                (None, 100, 50)           110200    \n",
      "_________________________________________________________________\n",
      "global_max_pooling1d_1 (Glob (None, 50)                0         \n",
      "_________________________________________________________________\n",
      "dropout_1 (Dropout)          (None, 50)                0         \n",
      "_________________________________________________________________\n",
      "dense_1 (Dense)              (None, 50)                2550      \n",
      "_________________________________________________________________\n",
      "dropout_2 (Dropout)          (None, 50)                0         \n",
      "_________________________________________________________________\n",
      "dense_2 (Dense)              (None, 2)                 102       \n",
      "=================================================================\n",
      "Total params: 612,852\n",
      "Trainable params: 612,852\n",
      "Non-trainable params: 0\n",
      "_________________________________________________________________\n"
     ]
    }
   ],
   "source": [
    "model.summary()"
   ]
  },
  {
   "cell_type": "markdown",
   "metadata": {},
   "source": [
    "### Training the model"
   ]
  },
  {
   "cell_type": "code",
   "execution_count": 15,
   "metadata": {
    "scrolled": true
   },
   "outputs": [
    {
     "name": "stdout",
     "output_type": "stream",
     "text": [
      "WARNING:tensorflow:From /anaconda3/lib/python3.7/site-packages/tensorflow/python/ops/math_grad.py:1250: add_dispatch_support.<locals>.wrapper (from tensorflow.python.ops.array_ops) is deprecated and will be removed in a future version.\n",
      "Instructions for updating:\n",
      "Use tf.where in 2.0, which has the same broadcast rule as np.where\n",
      "WARNING:tensorflow:From /anaconda3/lib/python3.7/site-packages/keras/backend/tensorflow_backend.py:422: The name tf.global_variables is deprecated. Please use tf.compat.v1.global_variables instead.\n",
      "\n",
      "Train on 16000 samples, validate on 4000 samples\n",
      "Epoch 1/3\n",
      "16000/16000 [==============================] - 32s 2ms/step - loss: 0.6780 - accuracy: 0.5892 - val_loss: 0.9527 - val_accuracy: 0.0000e+00\n",
      "Epoch 2/3\n",
      "16000/16000 [==============================] - 27s 2ms/step - loss: 0.6675 - accuracy: 0.6234 - val_loss: 0.8753 - val_accuracy: 0.0000e+00\n",
      "Epoch 3/3\n",
      "16000/16000 [==============================] - 27s 2ms/step - loss: 0.6637 - accuracy: 0.6244 - val_loss: 0.9232 - val_accuracy: 0.0000e+00\n"
     ]
    },
    {
     "data": {
      "text/plain": [
       "<keras.callbacks.callbacks.History at 0x1a38e8a6a0>"
      ]
     },
     "execution_count": 15,
     "metadata": {},
     "output_type": "execute_result"
    }
   ],
   "source": [
    "model.fit(X_t, y, epochs=3, batch_size=2000, validation_split=0.2)"
   ]
  },
  {
   "cell_type": "markdown",
   "metadata": {},
   "source": [
    "## Alternative Approach to the Neural Network"
   ]
  },
  {
   "cell_type": "code",
   "execution_count": 66,
   "metadata": {},
   "outputs": [],
   "source": [
    "# Assigning the correct data\n",
    "tweets = data\n",
    "\n",
    "# Tokenizing the the data and keeping the 2000 most common words\n",
    "tokenizer = text.Tokenizer(num_words=2000)\n",
    "\n",
    "# Fitting the tweets on the tokenizer\n",
    "tokenizer.fit_on_texts(tweets)\n",
    "\n",
    "# Transforms each word in in the tweet into an integer\n",
    "sequences = tokenizer.texts_to_sequences(tweets)\n",
    "\n",
    "# Converts the list of texts into a matrix\n",
    "one_hot_results = tokenizer.texts_to_matrix(tweets, mode='binary')\n",
    "\n",
    "# Creating a dictionary of words\n",
    "word_index = tokenizer.word_index"
   ]
  },
  {
   "cell_type": "code",
   "execution_count": 67,
   "metadata": {},
   "outputs": [],
   "source": [
    "# Reversing the dictionary\n",
    "reverse_index = dict([(value, key) for (key, value) in word_index.items()])"
   ]
  },
  {
   "cell_type": "code",
   "execution_count": 68,
   "metadata": {},
   "outputs": [
    {
     "name": "stdout",
     "output_type": "stream",
     "text": [
      "Original complaint text:\n",
      "putin back trump \n",
      "\n",
      "\n",
      "\n",
      "Decoded review from Tokenizer:\n",
      "putin back trump\n"
     ]
    }
   ],
   "source": [
    "comment_idx_to_preview = 19\n",
    "print('Original complaint text:')\n",
    "print(tweets[comment_idx_to_preview])\n",
    "print('\\n\\n')\n",
    "\n",
    "#The reverse_index cell block above must be complete in order for this cell block to successively execute.\n",
    "decoded_review = ' '.join([reverse_index.get(i) for i in sequences[comment_idx_to_preview]])\n",
    "print('Decoded review from Tokenizer:')\n",
    "print(decoded_review)"
   ]
  },
  {
   "cell_type": "code",
   "execution_count": 69,
   "metadata": {},
   "outputs": [
    {
     "name": "stdout",
     "output_type": "stream",
     "text": [
      "Original class labels:\n",
      "['Jacksonville', 'Seattle']\n",
      "\n",
      "\n",
      "New product labels:\n",
      "[1 1 1 ... 0 0 0]\n",
      "\n",
      "\n",
      "One hot labels; 2 binary columns, one for each of the categories.\n",
      "[[0. 1.]\n",
      " [0. 1.]\n",
      " [0. 1.]\n",
      " ...\n",
      " [1. 0.]\n",
      " [1. 0.]\n",
      " [1. 0.]]\n",
      "\n",
      "\n",
      "One hot labels shape:\n",
      "(20000, 2)\n"
     ]
    }
   ],
   "source": [
    "city = main_df[\"City\"]\n",
    "\n",
    "le = preprocessing.LabelEncoder() #Initialize. le used as abbreviation fo label encoder\n",
    "le.fit(city)\n",
    "print(\"Original class labels:\")\n",
    "print(list(le.classes_))\n",
    "print('\\n')\n",
    "city_cat = le.transform(city)  \n",
    "\n",
    "print('New product labels:')\n",
    "print(city_cat)\n",
    "print('\\n')\n",
    "\n",
    "\n",
    "print('One hot labels; 2 binary columns, one for each of the categories.') #Each row will be all zeros except for the category for that observation.\n",
    "city_onehot = to_categorical(city_cat)\n",
    "print(city_onehot)\n",
    "print('\\n')\n",
    "\n",
    "print('One hot labels shape:')\n",
    "print(np.shape(city_onehot))"
   ]
  },
  {
   "cell_type": "markdown",
   "metadata": {},
   "source": [
    "### Train, test, split"
   ]
  },
  {
   "cell_type": "code",
   "execution_count": 90,
   "metadata": {},
   "outputs": [
    {
     "name": "stdout",
     "output_type": "stream",
     "text": [
      "Test label shape: (4000, 2)\n",
      "Train label shape: (16000, 2)\n",
      "Test shape: (4000, 2000)\n",
      "Train shape: (16000, 2000)\n"
     ]
    }
   ],
   "source": [
    "X, y = one_hot_results, city_onehot\n",
    "\n",
    "X_train, X_test, y_train, y_test = train_test_split(X, y, test_size=0.2)\n",
    "\n",
    "print(\"Test label shape:\", np.shape(y_test))\n",
    "print(\"Train label shape:\", np.shape(y_train))\n",
    "print(\"Test shape:\", np.shape(X_test))\n",
    "print(\"Train shape:\", np.shape(X_train))"
   ]
  },
  {
   "cell_type": "markdown",
   "metadata": {},
   "source": [
    "## Creating the Neural Network"
   ]
  },
  {
   "cell_type": "code",
   "execution_count": 173,
   "metadata": {},
   "outputs": [],
   "source": [
    "# Instatiating the model\n",
    "model = Sequential()\n",
    "\n",
    "# Regular Densely connected NN layer\n",
    "model.add(Dense(50, activation='relu', input_shape=(2000,))) # Shape is equal to the number of most common words\n",
    "\n",
    "# Dropping out to prevent overfitting\n",
    "model.add(Dropout(.3))\n",
    "\n",
    "# Another Dense layer with 25 outputs and dropping out half\n",
    "model.add(Dense(25, activation='relu'))\n",
    "model.add(Dropout(.5))\n",
    "\n",
    "# Last layer with 2 outputs to represent the number of classes\n",
    "model.add(Dense(2, activation='softmax'))"
   ]
  },
  {
   "cell_type": "markdown",
   "metadata": {},
   "source": [
    "### Model Specifications"
   ]
  },
  {
   "cell_type": "code",
   "execution_count": 174,
   "metadata": {},
   "outputs": [],
   "source": [
    "model.compile(optimizer='SGD', loss='binary_crossentropy', metrics=['accuracy'])"
   ]
  },
  {
   "cell_type": "code",
   "execution_count": 175,
   "metadata": {},
   "outputs": [
    {
     "name": "stdout",
     "output_type": "stream",
     "text": [
      "Model: \"sequential_26\"\n",
      "_________________________________________________________________\n",
      "Layer (type)                 Output Shape              Param #   \n",
      "=================================================================\n",
      "dense_68 (Dense)             (None, 50)                100050    \n",
      "_________________________________________________________________\n",
      "dropout_41 (Dropout)         (None, 50)                0         \n",
      "_________________________________________________________________\n",
      "dense_69 (Dense)             (None, 25)                1275      \n",
      "_________________________________________________________________\n",
      "dropout_42 (Dropout)         (None, 25)                0         \n",
      "_________________________________________________________________\n",
      "dense_70 (Dense)             (None, 2)                 52        \n",
      "=================================================================\n",
      "Total params: 101,377\n",
      "Trainable params: 101,377\n",
      "Non-trainable params: 0\n",
      "_________________________________________________________________\n"
     ]
    }
   ],
   "source": [
    "model.summary()"
   ]
  },
  {
   "cell_type": "markdown",
   "metadata": {},
   "source": [
    "### Fitting and Training the NN"
   ]
  },
  {
   "cell_type": "code",
   "execution_count": 192,
   "metadata": {
    "scrolled": true
   },
   "outputs": [
    {
     "name": "stdout",
     "output_type": "stream",
     "text": [
      "Epoch 1/100\n",
      "16000/16000 [==============================] - 0s 27us/step - loss: 0.6570 - accuracy: 0.6064\n",
      "Epoch 2/100\n",
      "16000/16000 [==============================] - 0s 28us/step - loss: 0.6571 - accuracy: 0.6091\n",
      "Epoch 3/100\n",
      "16000/16000 [==============================] - 0s 26us/step - loss: 0.6582 - accuracy: 0.6066\n",
      "Epoch 4/100\n",
      "16000/16000 [==============================] - 0s 27us/step - loss: 0.6573 - accuracy: 0.6108\n",
      "Epoch 5/100\n",
      "16000/16000 [==============================] - 0s 26us/step - loss: 0.6552 - accuracy: 0.6089\n",
      "Epoch 6/100\n",
      "16000/16000 [==============================] - 0s 28us/step - loss: 0.6565 - accuracy: 0.6102\n",
      "Epoch 7/100\n",
      "16000/16000 [==============================] - 0s 28us/step - loss: 0.6565 - accuracy: 0.6106\n",
      "Epoch 8/100\n",
      "16000/16000 [==============================] - 1s 31us/step - loss: 0.6547 - accuracy: 0.6090\n",
      "Epoch 9/100\n",
      "16000/16000 [==============================] - 0s 28us/step - loss: 0.6517 - accuracy: 0.6161\n",
      "Epoch 10/100\n",
      "16000/16000 [==============================] - 0s 31us/step - loss: 0.6542 - accuracy: 0.6133\n",
      "Epoch 11/100\n",
      "16000/16000 [==============================] - 0s 28us/step - loss: 0.6510 - accuracy: 0.6160\n",
      "Epoch 12/100\n",
      "16000/16000 [==============================] - 0s 30us/step - loss: 0.6539 - accuracy: 0.6174\n",
      "Epoch 13/100\n",
      "16000/16000 [==============================] - 0s 28us/step - loss: 0.6532 - accuracy: 0.6136\n",
      "Epoch 14/100\n",
      "16000/16000 [==============================] - 0s 26us/step - loss: 0.6510 - accuracy: 0.6181\n",
      "Epoch 15/100\n",
      "16000/16000 [==============================] - 0s 28us/step - loss: 0.6506 - accuracy: 0.6170\n",
      "Epoch 16/100\n",
      "16000/16000 [==============================] - 0s 28us/step - loss: 0.6494 - accuracy: 0.6191\n",
      "Epoch 17/100\n",
      "16000/16000 [==============================] - 0s 27us/step - loss: 0.6498 - accuracy: 0.6171\n",
      "Epoch 18/100\n",
      "16000/16000 [==============================] - 0s 27us/step - loss: 0.6501 - accuracy: 0.6174\n",
      "Epoch 19/100\n",
      "16000/16000 [==============================] - 0s 27us/step - loss: 0.6527 - accuracy: 0.6129\n",
      "Epoch 20/100\n",
      "16000/16000 [==============================] - 1s 34us/step - loss: 0.6491 - accuracy: 0.6178\n",
      "Epoch 21/100\n",
      "16000/16000 [==============================] - 1s 39us/step - loss: 0.6491 - accuracy: 0.6160\n",
      "Epoch 22/100\n",
      "16000/16000 [==============================] - 1s 36us/step - loss: 0.6474 - accuracy: 0.6227\n",
      "Epoch 23/100\n",
      "16000/16000 [==============================] - 1s 33us/step - loss: 0.6467 - accuracy: 0.6213\n",
      "Epoch 24/100\n",
      "16000/16000 [==============================] - 0s 27us/step - loss: 0.6468 - accuracy: 0.6231\n",
      "Epoch 25/100\n",
      "16000/16000 [==============================] - 0s 27us/step - loss: 0.6468 - accuracy: 0.6217\n",
      "Epoch 26/100\n",
      "16000/16000 [==============================] - 0s 28us/step - loss: 0.6474 - accuracy: 0.6239\n",
      "Epoch 27/100\n",
      "16000/16000 [==============================] - 0s 28us/step - loss: 0.6457 - accuracy: 0.6233\n",
      "Epoch 28/100\n",
      "16000/16000 [==============================] - 0s 27us/step - loss: 0.6451 - accuracy: 0.6287\n",
      "Epoch 29/100\n",
      "16000/16000 [==============================] - 0s 28us/step - loss: 0.6452 - accuracy: 0.6258\n",
      "Epoch 30/100\n",
      "16000/16000 [==============================] - 0s 29us/step - loss: 0.6460 - accuracy: 0.6295\n",
      "Epoch 31/100\n",
      "16000/16000 [==============================] - 0s 29us/step - loss: 0.6452 - accuracy: 0.6217\n",
      "Epoch 32/100\n",
      "16000/16000 [==============================] - 0s 29us/step - loss: 0.6472 - accuracy: 0.6245\n",
      "Epoch 33/100\n",
      "16000/16000 [==============================] - 1s 32us/step - loss: 0.6417 - accuracy: 0.6241\n",
      "Epoch 34/100\n",
      "16000/16000 [==============================] - 0s 29us/step - loss: 0.6424 - accuracy: 0.6308\n",
      "Epoch 35/100\n",
      "16000/16000 [==============================] - 0s 28us/step - loss: 0.6403 - accuracy: 0.6311\n",
      "Epoch 36/100\n",
      "16000/16000 [==============================] - 0s 29us/step - loss: 0.6416 - accuracy: 0.6291\n",
      "Epoch 37/100\n",
      "16000/16000 [==============================] - 0s 26us/step - loss: 0.6401 - accuracy: 0.6307\n",
      "Epoch 38/100\n",
      "16000/16000 [==============================] - 0s 26us/step - loss: 0.6399 - accuracy: 0.6272\n",
      "Epoch 39/100\n",
      "16000/16000 [==============================] - 0s 26us/step - loss: 0.6401 - accuracy: 0.6304\n",
      "Epoch 40/100\n",
      "16000/16000 [==============================] - 0s 27us/step - loss: 0.6407 - accuracy: 0.6303\n",
      "Epoch 41/100\n",
      "16000/16000 [==============================] - 1s 32us/step - loss: 0.6423 - accuracy: 0.6292\n",
      "Epoch 42/100\n",
      "16000/16000 [==============================] - 1s 44us/step - loss: 0.6377 - accuracy: 0.6356\n",
      "Epoch 43/100\n",
      "16000/16000 [==============================] - 0s 28us/step - loss: 0.6366 - accuracy: 0.6376\n",
      "Epoch 44/100\n",
      "16000/16000 [==============================] - 1s 34us/step - loss: 0.6388 - accuracy: 0.6339\n",
      "Epoch 45/100\n",
      "16000/16000 [==============================] - 0s 28us/step - loss: 0.6406 - accuracy: 0.6283\n",
      "Epoch 46/100\n",
      "16000/16000 [==============================] - 0s 28us/step - loss: 0.6364 - accuracy: 0.6346\n",
      "Epoch 47/100\n",
      "16000/16000 [==============================] - 1s 31us/step - loss: 0.6354 - accuracy: 0.6372\n",
      "Epoch 48/100\n",
      "16000/16000 [==============================] - 1s 35us/step - loss: 0.6352 - accuracy: 0.6385\n",
      "Epoch 49/100\n",
      "16000/16000 [==============================] - 1s 43us/step - loss: 0.6351 - accuracy: 0.6318\n",
      "Epoch 50/100\n",
      "16000/16000 [==============================] - 0s 29us/step - loss: 0.6364 - accuracy: 0.6359\n",
      "Epoch 51/100\n",
      "16000/16000 [==============================] - 0s 31us/step - loss: 0.6346 - accuracy: 0.6341\n",
      "Epoch 52/100\n",
      "16000/16000 [==============================] - 0s 28us/step - loss: 0.6358 - accuracy: 0.6327\n",
      "Epoch 53/100\n",
      "16000/16000 [==============================] - 0s 27us/step - loss: 0.6327 - accuracy: 0.6394\n",
      "Epoch 54/100\n",
      "16000/16000 [==============================] - 0s 29us/step - loss: 0.6329 - accuracy: 0.6362\n",
      "Epoch 55/100\n",
      "16000/16000 [==============================] - 0s 30us/step - loss: 0.6333 - accuracy: 0.6403\n",
      "Epoch 56/100\n",
      "16000/16000 [==============================] - 0s 29us/step - loss: 0.6332 - accuracy: 0.6390\n",
      "Epoch 57/100\n",
      "16000/16000 [==============================] - 0s 30us/step - loss: 0.6313 - accuracy: 0.6447\n",
      "Epoch 58/100\n",
      "16000/16000 [==============================] - 0s 26us/step - loss: 0.6309 - accuracy: 0.6429\n",
      "Epoch 59/100\n",
      "16000/16000 [==============================] - 0s 29us/step - loss: 0.6309 - accuracy: 0.6404\n",
      "Epoch 60/100\n",
      "16000/16000 [==============================] - ETA: 0s - loss: 0.6314 - accuracy: 0.64 - 0s 30us/step - loss: 0.6313 - accuracy: 0.6426\n",
      "Epoch 61/100\n",
      "16000/16000 [==============================] - 0s 30us/step - loss: 0.6291 - accuracy: 0.6453\n",
      "Epoch 62/100\n",
      "16000/16000 [==============================] - 0s 27us/step - loss: 0.6274 - accuracy: 0.6435\n",
      "Epoch 63/100\n",
      "16000/16000 [==============================] - 1s 34us/step - loss: 0.6283 - accuracy: 0.6474\n",
      "Epoch 64/100\n",
      "16000/16000 [==============================] - 1s 33us/step - loss: 0.6271 - accuracy: 0.6461\n",
      "Epoch 65/100\n",
      "16000/16000 [==============================] - 0s 29us/step - loss: 0.6268 - accuracy: 0.6454\n",
      "Epoch 66/100\n",
      "16000/16000 [==============================] - 0s 28us/step - loss: 0.6267 - accuracy: 0.6471\n",
      "Epoch 67/100\n",
      "16000/16000 [==============================] - 0s 29us/step - loss: 0.6250 - accuracy: 0.6532\n",
      "Epoch 68/100\n",
      "16000/16000 [==============================] - 0s 27us/step - loss: 0.6237 - accuracy: 0.6472\n",
      "Epoch 69/100\n",
      "16000/16000 [==============================] - 0s 31us/step - loss: 0.6247 - accuracy: 0.6465\n",
      "Epoch 70/100\n",
      "16000/16000 [==============================] - 0s 29us/step - loss: 0.6233 - accuracy: 0.6554\n",
      "Epoch 71/100\n",
      "16000/16000 [==============================] - 0s 30us/step - loss: 0.6235 - accuracy: 0.6512\n",
      "Epoch 72/100\n",
      "16000/16000 [==============================] - 1s 32us/step - loss: 0.6214 - accuracy: 0.6532\n",
      "Epoch 73/100\n",
      "16000/16000 [==============================] - 0s 28us/step - loss: 0.6237 - accuracy: 0.6449\n",
      "Epoch 74/100\n",
      "16000/16000 [==============================] - 0s 29us/step - loss: 0.6196 - accuracy: 0.6580\n",
      "Epoch 75/100\n",
      "16000/16000 [==============================] - 1s 31us/step - loss: 0.6208 - accuracy: 0.6533\n",
      "Epoch 76/100\n",
      "16000/16000 [==============================] - 1s 37us/step - loss: 0.6205 - accuracy: 0.6535\n",
      "Epoch 77/100\n"
     ]
    },
    {
     "name": "stdout",
     "output_type": "stream",
     "text": [
      "16000/16000 [==============================] - 1s 37us/step - loss: 0.6187 - accuracy: 0.6562\n",
      "Epoch 78/100\n",
      "16000/16000 [==============================] - 1s 37us/step - loss: 0.6182 - accuracy: 0.6534\n",
      "Epoch 79/100\n",
      "16000/16000 [==============================] - 1s 41us/step - loss: 0.6212 - accuracy: 0.6475\n",
      "Epoch 80/100\n",
      "16000/16000 [==============================] - 1s 34us/step - loss: 0.6166 - accuracy: 0.6597\n",
      "Epoch 81/100\n",
      "16000/16000 [==============================] - 0s 29us/step - loss: 0.6183 - accuracy: 0.6538\n",
      "Epoch 82/100\n",
      "16000/16000 [==============================] - 0s 28us/step - loss: 0.6170 - accuracy: 0.6597\n",
      "Epoch 83/100\n",
      "16000/16000 [==============================] - 0s 26us/step - loss: 0.6153 - accuracy: 0.6625\n",
      "Epoch 84/100\n",
      "16000/16000 [==============================] - 0s 31us/step - loss: 0.6192 - accuracy: 0.6521\n",
      "Epoch 85/100\n",
      "16000/16000 [==============================] - 1s 32us/step - loss: 0.6163 - accuracy: 0.6599\n",
      "Epoch 86/100\n",
      "16000/16000 [==============================] - 0s 28us/step - loss: 0.6114 - accuracy: 0.6686\n",
      "Epoch 87/100\n",
      "16000/16000 [==============================] - 0s 30us/step - loss: 0.6132 - accuracy: 0.6605\n",
      "Epoch 88/100\n",
      "16000/16000 [==============================] - 0s 31us/step - loss: 0.6108 - accuracy: 0.6639\n",
      "Epoch 89/100\n",
      "16000/16000 [==============================] - 0s 29us/step - loss: 0.6136 - accuracy: 0.6585\n",
      "Epoch 90/100\n",
      "16000/16000 [==============================] - 0s 29us/step - loss: 0.6133 - accuracy: 0.6572\n",
      "Epoch 91/100\n",
      "16000/16000 [==============================] - 1s 32us/step - loss: 0.6123 - accuracy: 0.6676\n",
      "Epoch 92/100\n",
      "16000/16000 [==============================] - 0s 30us/step - loss: 0.6107 - accuracy: 0.6639\n",
      "Epoch 93/100\n",
      "16000/16000 [==============================] - 0s 29us/step - loss: 0.6119 - accuracy: 0.6614\n",
      "Epoch 94/100\n",
      "16000/16000 [==============================] - 0s 31us/step - loss: 0.6099 - accuracy: 0.6676\n",
      "Epoch 95/100\n",
      "16000/16000 [==============================] - 0s 30us/step - loss: 0.6090 - accuracy: 0.6646\n",
      "Epoch 96/100\n",
      "16000/16000 [==============================] - 0s 29us/step - loss: 0.6121 - accuracy: 0.6598\n",
      "Epoch 97/100\n",
      "16000/16000 [==============================] - 0s 29us/step - loss: 0.6092 - accuracy: 0.6652\n",
      "Epoch 98/100\n",
      "16000/16000 [==============================] - 1s 31us/step - loss: 0.6068 - accuracy: 0.6664\n",
      "Epoch 99/100\n",
      "16000/16000 [==============================] - 0s 28us/step - loss: 0.6066 - accuracy: 0.6670\n",
      "Epoch 100/100\n",
      "16000/16000 [==============================] - 0s 28us/step - loss: 0.6090 - accuracy: 0.6678\n"
     ]
    }
   ],
   "source": [
    "history = model.fit(X_train, y_train, epochs=100, batch_size=256)"
   ]
  },
  {
   "cell_type": "code",
   "execution_count": 193,
   "metadata": {},
   "outputs": [
    {
     "data": {
      "text/plain": [
       "dict_keys(['loss', 'accuracy'])"
      ]
     },
     "execution_count": 193,
     "metadata": {},
     "output_type": "execute_result"
    }
   ],
   "source": [
    "# Assigning the dictionary of the results from the training\n",
    "history_dict = history.history\n",
    "history_dict.keys()"
   ]
  },
  {
   "cell_type": "markdown",
   "metadata": {},
   "source": [
    "## Visualizing the Loss and Accuracy over time"
   ]
  },
  {
   "cell_type": "code",
   "execution_count": 194,
   "metadata": {},
   "outputs": [
    {
     "data": {
      "image/png": "[encoded data removed]",
      "text/plain": [
       "<Figure size 432x288 with 1 Axes>"
      ]
     },
     "metadata": {},
     "output_type": "display_data"
    }
   ],
   "source": [
    "# Training Loss\n",
    "history_dict = history.history\n",
    "loss_values = history_dict['loss']\n",
    "\n",
    "epochs = range(1, len(loss_values) + 1)\n",
    "plt.plot(epochs, loss_values, 'g', label='Training loss')\n",
    "\n",
    "plt.title('Training loss')\n",
    "plt.xlabel('Epochs')\n",
    "plt.ylabel('Loss')\n",
    "plt.legend()\n",
    "plt.show()"
   ]
  },
  {
   "cell_type": "code",
   "execution_count": 195,
   "metadata": {},
   "outputs": [
    {
     "data": {
      "image/png": "[encoded data removed]",
      "text/plain": [
       "<Figure size 432x288 with 1 Axes>"
      ]
     },
     "metadata": {},
     "output_type": "display_data"
    }
   ],
   "source": [
    "# Training Accuracy\n",
    "acc_values = history_dict['accuracy'] \n",
    "\n",
    "plt.plot(epochs, acc_values, 'r', label='Training acc')\n",
    "plt.title('Training accuracy')\n",
    "plt.xlabel('Epochs')\n",
    "plt.ylabel('Loss')\n",
    "plt.legend()\n",
    "plt.show()"
   ]
  },
  {
   "cell_type": "markdown",
   "metadata": {},
   "source": [
    "### Evaluating the trained model"
   ]
  },
  {
   "cell_type": "code",
   "execution_count": 197,
   "metadata": {},
   "outputs": [
    {
     "name": "stdout",
     "output_type": "stream",
     "text": [
      "16000/16000 [==============================] - 1s 45us/step\n"
     ]
    },
    {
     "data": {
      "text/plain": [
       "[0.572358312368393, 0.7196249961853027]"
      ]
     },
     "execution_count": 197,
     "metadata": {},
     "output_type": "execute_result"
    }
   ],
   "source": [
    "results_train = model.evaluate(X_train, y_train)\n",
    "results_train"
   ]
  },
  {
   "cell_type": "code",
   "execution_count": 198,
   "metadata": {},
   "outputs": [
    {
     "name": "stdout",
     "output_type": "stream",
     "text": [
      "4000/4000 [==============================] - 0s 53us/step\n"
     ]
    },
    {
     "data": {
      "text/plain": [
       "[0.6555700607299805, 0.6012499928474426]"
      ]
     },
     "execution_count": 198,
     "metadata": {},
     "output_type": "execute_result"
    }
   ],
   "source": [
    "results_test = model.evaluate(X_test, y_test)\n",
    "results_test"
   ]
  },
  {
   "cell_type": "code",
   "execution_count": 199,
   "metadata": {},
   "outputs": [
    {
     "name": "stdout",
     "output_type": "stream",
     "text": [
      "Deep Learning\n",
      "Training Accuracy: 0.7196 \t\t Testing Accuracy: 0.6012\n"
     ]
    }
   ],
   "source": [
    "mod_train_preds = model.predict(X_train)\n",
    "mod_test_preds = model.predict(X_test)\n",
    "\n",
    "mod_train_score = accuracy_score(y_train.argmax(axis=1), mod_train_preds.argmax(axis=1))\n",
    "mod_test_score = accuracy_score(y_test.argmax(axis=1), mod_test_preds.argmax(axis=1))\n",
    "\n",
    "print(\"Deep Learning\")\n",
    "print(\"Training Accuracy: {:.4} \\t\\t Testing Accuracy: {:.4}\".format(mod_train_score, mod_test_score))"
   ]
  },
  {
   "cell_type": "code",
   "execution_count": null,
   "metadata": {},
   "outputs": [],
   "source": []
  }
 ],
 "metadata": {
  "kernelspec": {
   "display_name": "Python 3",
   "language": "python",
   "name": "python3"
  },
  "language_info": {
   "codemirror_mode": {
    "name": "ipython",
    "version": 3
   },
   "file_extension": ".py",
   "mimetype": "text/x-python",
   "name": "python",
   "nbconvert_exporter": "python",
   "pygments_lexer": "ipython3",
   "version": "3.7.3"
  }
 },
 "nbformat": 4,
 "nbformat_minor": 2
}
